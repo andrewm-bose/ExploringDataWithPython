{
 "cells": [
  {
   "cell_type": "code",
   "execution_count": 24,
   "metadata": {},
   "outputs": [],
   "source": [
    "import random\n",
    "from collections import Counter, defaultdict"
   ]
  },
  {
   "cell_type": "code",
   "execution_count": 10,
   "metadata": {},
   "outputs": [
    {
     "data": {
      "text/plain": [
       "Counter({'door1': 0, 'door2': 0, 'door3': 0})"
      ]
     },
     "execution_count": 10,
     "metadata": {},
     "output_type": "execute_result"
    }
   ],
   "source": [
    "c = Counter({'door1':0, 'door2':0, 'door3':0})\n",
    "c"
   ]
  },
  {
   "cell_type": "code",
   "execution_count": 12,
   "metadata": {},
   "outputs": [
    {
     "data": {
      "text/plain": [
       "Counter({'door1': 2, 'door2': 0, 'door3': 0})"
      ]
     },
     "execution_count": 12,
     "metadata": {},
     "output_type": "execute_result"
    }
   ],
   "source": [
    "c.update(['door1'])\n",
    "c"
   ]
  },
  {
   "cell_type": "code",
   "execution_count": 25,
   "metadata": {},
   "outputs": [
    {
     "data": {
      "text/plain": [
       "defaultdict(collections.Counter, {})"
      ]
     },
     "execution_count": 25,
     "metadata": {},
     "output_type": "execute_result"
    }
   ],
   "source": [
    "d = defaultdict(Counter)\n",
    "d"
   ]
  },
  {
   "cell_type": "code",
   "execution_count": 27,
   "metadata": {},
   "outputs": [
    {
     "data": {
      "text/plain": [
       "defaultdict(collections.Counter,\n",
       "            {'door1': Counter({'win': 1, 'win-if-switch': 1})})"
      ]
     },
     "execution_count": 27,
     "metadata": {},
     "output_type": "execute_result"
    }
   ],
   "source": [
    "d['door1'].update(['win-if-switch'])\n",
    "d"
   ]
  },
  {
   "cell_type": "code",
   "execution_count": 22,
   "metadata": {},
   "outputs": [
    {
     "data": {
      "text/plain": [
       "Counter({'door1': 3284, 'door2': 3341, 'door3': 3375})"
      ]
     },
     "execution_count": 22,
     "metadata": {},
     "output_type": "execute_result"
    }
   ],
   "source": [
    "d = defaultdict(Counter)\n",
    "\n",
    "door_dictionary = {'door1':[], 'door2':[], 'door3':[]}\n",
    "switch = {}\n",
    "\n",
    "door_picked = Counter({'door1':0, 'door2':0, 'door3':0})\n",
    "\n",
    "for _ in range(10):\n",
    "    player_choice = random.choice(['door1', 'door2', 'door3'])\n",
    "    door_prize = random.sample([\"car\",\"goat\",\"goat\"],3) #location of the prizes\n",
    "    \n",
    "    #fix off by one \n",
    "    door_dictionary['door1'] = door[0]\n",
    "    door_dictionary['door2'] = door[1]\n",
    "    door_dictionary['door3'] = door[2]\n",
    "    \n",
    "    \n",
    "    door_picked.update([player_choice])\n",
    "    \n",
    "    # decide what door monty shows\n",
    "    if door_dictionary[player_choice] == 'car'\n",
    "        \n",
    "c"
   ]
  },
  {
   "cell_type": "code",
   "execution_count": null,
   "metadata": {},
   "outputs": [],
   "source": []
  },
  {
   "cell_type": "code",
   "execution_count": null,
   "metadata": {},
   "outputs": [],
   "source": []
  },
  {
   "cell_type": "code",
   "execution_count": null,
   "metadata": {},
   "outputs": [],
   "source": []
  },
  {
   "cell_type": "code",
   "execution_count": 8,
   "metadata": {},
   "outputs": [],
   "source": [
    "c = Counter(door1:0, )\n",
    "def setup():\n",
    "    door = random.sample([\"car\",\"goat\",\"goat\"],3)\n",
    "    return door\n",
    "\n",
    "\n",
    "#keep door initially picked\n",
    "'''\n",
    "door1 - initially picked \n",
    "door2 - initially picked\n",
    "door3 - initially picked\n",
    "\n",
    "door1 - showed by Monty Hall\n",
    "door2 - showed by Monty Hall\n",
    "door3 - showed by Monty Hall\n",
    "\n",
    "\n",
    "\n",
    "#keep win if switch\n",
    "#keep win if not switch\n",
    "'''\n",
    "\n",
    "'''\n",
    "generate prize locations\n",
    "door1 - initially picked by player\n",
    "keep data if switching wins or loses\n",
    "\n",
    "\n",
    "\n",
    "\n",
    "'''\n",
    "def game():\n",
    "    result = False\n",
    "    setup()\n",
    "    switch_or_not()\n",
    "    winner()\n",
    "    return result\n"
   ]
  },
  {
   "cell_type": "code",
   "execution_count": null,
   "metadata": {},
   "outputs": [],
   "source": []
  },
  {
   "cell_type": "code",
   "execution_count": null,
   "metadata": {},
   "outputs": [],
   "source": []
  },
  {
   "cell_type": "code",
   "execution_count": null,
   "metadata": {},
   "outputs": [],
   "source": []
  },
  {
   "cell_type": "code",
   "execution_count": null,
   "metadata": {},
   "outputs": [],
   "source": []
  }
 ],
 "metadata": {
  "kernelspec": {
   "display_name": "Python 3",
   "language": "python",
   "name": "python3"
  },
  "language_info": {
   "codemirror_mode": {
    "name": "ipython",
    "version": 3
   },
   "file_extension": ".py",
   "mimetype": "text/x-python",
   "name": "python",
   "nbconvert_exporter": "python",
   "pygments_lexer": "ipython3",
   "version": "3.6.5"
  }
 },
 "nbformat": 4,
 "nbformat_minor": 2
}
